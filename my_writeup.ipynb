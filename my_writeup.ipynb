{
 "cells": [
  {
   "cell_type": "markdown",
   "metadata": {},
   "source": [
    "# PID Controller\n"
   ]
  },
  {
   "cell_type": "markdown",
   "metadata": {},
   "source": [
    "## the project require to create a PID Controller for the vehicle on the high way.\n",
    "\n",
    "### PID effectons\n",
    "\n",
    "1. P Controller is a based controller.\n",
    "\n",
    "when the car ran with small cte, it had a small oscillation. But when the car truned the curve, the cte became larger and the controller began a big oscillation.\n",
    "\n",
    "\n",
    "2. D Controller create small cte change rate;\n",
    "\n",
    "3. I Controller,  It sum a lot of cte;\n",
    "\n",
    "### To tune a PID, I will take some steps below:\n",
    "\n",
    "step1:create a PID Controller class, and set the parameter of P's, I's, D's to zero;\n",
    "\n",
    "step2: increase P gain until the response to a disturbance is steady oscillation;\n",
    "\n",
    "![avatar](./P.png)\n",
    "\n",
    "step3: Increase the D gain until the oscillations go away;\n",
    "\n",
    "![avatar](./PD.png)\n",
    "\n",
    "step4: Repeat step2 and step 3, until increasing the D gain does not stop the oscillations;\n",
    "\n",
    "step5: Increase the I gain until it brings you to the setpoint with the number of oscillations desired(normally zero);\n",
    "\n",
    "![avatar](./PID.png)\n"
   ]
  },
  {
   "cell_type": "code",
   "execution_count": null,
   "metadata": {},
   "outputs": [],
   "source": []
  },
  {
   "cell_type": "code",
   "execution_count": null,
   "metadata": {},
   "outputs": [],
   "source": []
  }
 ],
 "metadata": {
  "kernelspec": {
   "display_name": "Python 3",
   "language": "python",
   "name": "python3"
  },
  "language_info": {
   "codemirror_mode": {
    "name": "ipython",
    "version": 3
   },
   "file_extension": ".py",
   "mimetype": "text/x-python",
   "name": "python",
   "nbconvert_exporter": "python",
   "pygments_lexer": "ipython3",
   "version": "3.7.3"
  }
 },
 "nbformat": 4,
 "nbformat_minor": 2
}
